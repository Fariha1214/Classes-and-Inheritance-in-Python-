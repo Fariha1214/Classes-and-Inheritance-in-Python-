{
 "cells": [
  {
   "cell_type": "code",
   "execution_count": null,
   "id": "b92a0839-1308-40b9-b90e-2bd145a739fc",
   "metadata": {},
   "outputs": [],
   "source": [
    "#Fariha Imran\n",
    "#FA24-BBD-027"
   ]
  },
  {
   "cell_type": "code",
   "execution_count": 1,
   "id": "1d205459-a6da-4167-ba8d-28368bb43289",
   "metadata": {},
   "outputs": [
    {
     "name": "stdout",
     "output_type": "stream",
     "text": [
      "The area of the circle is: 153.93804002589985\n",
      "The area of the rectangle is: 27\n",
      "The area of the triangle is: 20.0\n"
     ]
    }
   ],
   "source": [
    "#Question.no:9\n",
    "import math\n",
    "class Shape:\n",
    "    def __init__(self):\n",
    "        pass    \n",
    "    def calculate_area(self):        \n",
    "        pass\n",
    "\n",
    "class Circle(Shape):    \n",
    "    def __init__(self, radius):\n",
    "        self.radius = radius   \n",
    "    def calculate_area(self):\n",
    "        area = math.pi * (self.radius ** 2)\n",
    "        print(f\"The area of the circle is: {area}\")\n",
    "\n",
    "class Rectangle(Shape):   \n",
    "    def __init__(self, length, width):\n",
    "        self.length = length\n",
    "        self.width = width   \n",
    "    def calculate_area(self):\n",
    "        area = self.length * self.width\n",
    "        print(f\"The area of the rectangle is: {area}\")\n",
    "\n",
    "class Triangle(Shape):    \n",
    "    def __init__(self, base, height):\n",
    "        self.base = base\n",
    "        self.height = height    \n",
    "    def calculate_area(self):\n",
    "        area = 0.5 * self.base * self.height\n",
    "        print(f\"The area of the triangle is: {area}\")\n",
    "        \n",
    "if __name__ == \"__main__\":\n",
    "    circle = Circle(7)\n",
    "    circle.calculate_area()\n",
    "\n",
    "    rectangle = Rectangle(3, 9)\n",
    "    rectangle.calculate_area()\n",
    "\n",
    "    triangle = Triangle(5, 8)\n",
    "    triangle.calculate_area()"
   ]
  },
  {
   "cell_type": "code",
   "execution_count": 3,
   "id": "af55c942-5d8d-4013-aba1-44f35a8a0bd2",
   "metadata": {},
   "outputs": [
    {
     "name": "stdout",
     "output_type": "stream",
     "text": [
      "Mickey the dog says: Woof!\n",
      "Smokey the cat says: Meow!\n",
      "Billi the cow says: Moo!\n"
     ]
    }
   ],
   "source": [
    "#Question.no:10\n",
    "class Animal:   \n",
    "    def __init__(self, name):\n",
    "        self.name = name   \n",
    "    def make_sound(self):\n",
    "        pass\n",
    "\n",
    "class Dog(Animal):    \n",
    "    def __init__(self, name):\n",
    "        super().__init__(name)   \n",
    "    def make_sound(self):\n",
    "        print(f\"{self.name} the dog says: Woof!\")\n",
    "\n",
    "class Cat(Animal):    \n",
    "    def __init__(self, name):\n",
    "        super().__init__(name)    \n",
    "    def make_sound(self):\n",
    "        print(f\"{self.name} the cat says: Meow!\")\n",
    "\n",
    "class Cow(Animal):    \n",
    "    def __init__(self, name):\n",
    "        super().__init__(name)    \n",
    "    def make_sound(self):\n",
    "        print(f\"{self.name} the cow says: Moo!\")\n",
    "\n",
    "if __name__ == \"__main__\":\n",
    "    dog = Dog(\"Mickey\")\n",
    "    dog.make_sound()\n",
    "\n",
    "    cat = Cat(\"Smokey\")\n",
    "    cat.make_sound()\n",
    "\n",
    "    cow = Cow(\"Billi\")\n",
    "    cow.make_sound()"
   ]
  }
 ],
 "metadata": {
  "kernelspec": {
   "display_name": "Python 3 (ipykernel)",
   "language": "python",
   "name": "python3"
  },
  "language_info": {
   "codemirror_mode": {
    "name": "ipython",
    "version": 3
   },
   "file_extension": ".py",
   "mimetype": "text/x-python",
   "name": "python",
   "nbconvert_exporter": "python",
   "pygments_lexer": "ipython3",
   "version": "3.12.4"
  }
 },
 "nbformat": 4,
 "nbformat_minor": 5
}
